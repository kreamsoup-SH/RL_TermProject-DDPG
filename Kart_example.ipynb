{
 "cells": [
  {
   "cell_type": "code",
   "execution_count": null,
   "id": "acb2537f",
   "metadata": {},
   "outputs": [],
   "source": [
    "import numpy as np\n",
    "import random\n",
    "import copy\n",
    "import datetime\n",
    "import platform\n",
    "import torch\n",
    "import torch.nn.functional as F\n",
    "from torch.utils.tensorboard import SummaryWriter\n",
    "from collections import deque\n",
    "from mlagents_envs.environment import UnityEnvironment, ActionTuple\n",
    "from mlagents_envs.side_channel.engine_configuration_channel import EngineConfigurationChannel\n",
    "\n",
    "device = torch.device(\"cuda\" if torch.cuda.is_available() else \"cpu\")\n",
    "print(device)"
   ]
  },
  {
   "cell_type": "code",
   "execution_count": null,
   "id": "1e78390b",
   "metadata": {},
   "outputs": [],
   "source": [
    "state_size = 12*4\n",
    "action_size = 2\n",
    "\n",
    "load_model = False\n",
    "train_mode = True\n",
    "\n",
    "batch_size = 128\n",
    "mem_maxlen = 10000\n",
    "discount_factor = 0.9\n",
    "actor_lr = 1e-4\n",
    "critic_lr = 5e-4\n",
    "tau = 1e-3\n",
    "\n",
    "mu = 0\n",
    "theta = 1e-3\n",
    "sigma = 2e-3\n",
    "\n",
    "train_step = 300000 if train_mode else 0\n",
    "save_step = 10000\n",
    "test_step = 10000\n",
    "train_start_step = 2000\n",
    "\n",
    "print_interval = 10\n",
    "save_interval = 100"
   ]
  },
  {
   "cell_type": "code",
   "execution_count": null,
   "id": "cb17bf87",
   "metadata": {},
   "outputs": [],
   "source": [
    "game = \"Kart1.exe\"\n",
    "file_path = f\"./{game}\"\n",
    "save_path = f\"./\"\n",
    "load_path = f\"./\"\n",
    "\n",
    "engine_configuration_channel = EngineConfigurationChannel()\n",
    "env = UnityEnvironment(file_name=file_path,\n",
    "                       side_channels=[engine_configuration_channel],\n",
    "                       worker_id=1)\n",
    "env.reset()\n",
    "behavior_name = list(env.behavior_specs.keys())[0]\n",
    "spec = env.behavior_specs[behavior_name]\n",
    "\n",
    "episode = 10\n",
    "for ep in range(episode):\n",
    "    env.reset()\n",
    "    decision_steps, terminal_steps = env.get_steps(behavior_name)\n",
    "    tracked_agent = -1\n",
    "    done = False\n",
    "    ep_rewards = 0\n",
    "    \n",
    "    while not done: \n",
    "        if tracked_agent == -1 and len(decision_steps) >= 1:\n",
    "            tracked_agent = decision_steps.agent_id[0]\n",
    "        \n",
    "        \"\"\"action\"\"\"\n",
    "        # 1. 앞으로 가는 action. [(horizontal), (vertical)]이니 앞으로 가는 action \n",
    "        action = np.array([[0, 1]], dtype=np.float32) \n",
    "        \n",
    "        # 2. Random action\n",
    "        #action = np.array([np.random.randint(-1, action_size, size=2)])\n",
    "        \n",
    "        action_tuple = ActionTuple()\n",
    "        action_tuple.add_continuous(action)\n",
    "        print(action)\n",
    "        env.set_actions(behavior_name, action_tuple)\n",
    "        env.step()\n",
    "        decision_steps, terminal_steps = env.get_steps(behavior_name)"
   ]
  }
 ],
 "metadata": {
  "kernelspec": {
   "display_name": "Python 3 (ipykernel)",
   "language": "python",
   "name": "python3"
  },
  "language_info": {
   "codemirror_mode": {
    "name": "ipython",
    "version": 3
   },
   "file_extension": ".py",
   "mimetype": "text/x-python",
   "name": "python",
   "nbconvert_exporter": "python",
   "pygments_lexer": "ipython3",
   "version": "3.9.7"
  }
 },
 "nbformat": 4,
 "nbformat_minor": 5
}
